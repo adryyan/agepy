{
 "cells": [
  {
   "cell_type": "markdown",
   "metadata": {},
   "source": [
    "# Plot the counts for an exciting-photon energy scan\n",
    "\n",
    "First import the `EnergyScan` class and the class for processing the\n",
    "\"raw\" detector data."
   ]
  },
  {
   "cell_type": "code",
   "execution_count": null,
   "metadata": {},
   "outputs": [],
   "source": [
    "from agepy.spec.photons import EnergyScan, available_anodes"
   ]
  },
  {
   "cell_type": "markdown",
   "metadata": {},
   "source": [
    "The available anodes can be viewed with"
   ]
  },
  {
   "cell_type": "code",
   "execution_count": null,
   "metadata": {},
   "outputs": [],
   "source": [
    "print(available_anodes)"
   ]
  },
  {
   "cell_type": "markdown",
   "metadata": {},
   "source": [
    "You can access the anode using the dictionary or import it directly"
   ]
  },
  {
   "cell_type": "code",
   "execution_count": null,
   "metadata": {},
   "outputs": [],
   "source": [
    "from agepy.spec.photons import DldAnodeUVW"
   ]
  },
  {
   "cell_type": "markdown",
   "metadata": {},
   "source": [
    "Create an instance of the chosen anode class with the detector rotation:"
   ]
  },
  {
   "cell_type": "code",
   "execution_count": null,
   "metadata": {},
   "outputs": [],
   "source": [
    "anode = DldAnodeUVW(-8.3)"
   ]
  },
  {
   "cell_type": "markdown",
   "metadata": {},
   "source": [
    "Now load the energy scan data from a `.h5` file using the `EnergyScan` class:"
   ]
  },
  {
   "cell_type": "code",
   "execution_count": null,
   "metadata": {},
   "outputs": [],
   "source": [
    "scan = EnergyScan(\"scan.h5\", \"epics#energy/0\", anode, raw=\"dld_rd#raw/0\",\n",
    "                  time_per_step=60, target_density=\"Baratron#avg/0\",\n",
    "                  intensity_upstream=\"Mirror#avg/0\")"
   ]
  },
  {
   "cell_type": "markdown",
   "metadata": {},
   "source": [
    "The class needs the path to the file, the anode and the directories inside the `.h5` file, where the data is saved. In this case the scan energies are in `epics#energy/0`, the \"raw\" data in `dld_rd#raw/0`. Additionally, values for normalization can be loaded, if available. Here, a target density and the upstream intensity of the incoming photons was recorded and is loaded from their directories.\n",
    "\n",
    "The directory structure in an `.h5` file can be viewed with `h5glance scan.h5`, after installing it with `pip install h5glance`."
   ]
  },
  {
   "cell_type": "markdown",
   "metadata": {},
   "source": [
    "The photon excitation spectrum can now be calculated and plotted with"
   ]
  },
  {
   "cell_type": "code",
   "execution_count": null,
   "metadata": {},
   "outputs": [],
   "source": [
    "n, err, energies = scan.counts(\n",
    "    roi={\"x\": {\"min\": 0.25, \"max\": 0.80}, \"y\": {\"min\": 0.35, \"max\": 0.56}})"
   ]
  },
  {
   "cell_type": "code",
   "execution_count": null,
   "metadata": {},
   "outputs": [],
   "source": [
    "%matplotlib inline\n",
    "# Import matplotlib for plotting\n",
    "import matplotlib.pyplot as plt\n",
    "# Set the agepy plotting style\n",
    "from agepy import ageplot\n",
    "ageplot.use(\"age\")\n",
    "\n",
    "fig, ax = plt.subplots()\n",
    "# Scale the counts to a reasonable size\n",
    "ax.plot(energies, n * 1e-10, '-', color=ageplot.colors[1])\n",
    "ax.errorbar(energies, n * 1e-10, yerr=err * 1e-10, fmt='s', markersize=3,\n",
    "            color=ageplot.colors[0])\n",
    "ax.set_xlabel(\"Energy (eV)\")\n",
    "ax.set_ylabel(\"Counts (arb. u.)\")\n",
    "ax.set_title(\"Energy scan\")\n",
    "plt.show()"
   ]
  }
 ],
 "metadata": {
  "kernelspec": {
   "display_name": "agepydev",
   "language": "python",
   "name": "python3"
  },
  "language_info": {
   "codemirror_mode": {
    "name": "ipython",
    "version": 3
   },
   "file_extension": ".py",
   "mimetype": "text/x-python",
   "name": "python",
   "nbconvert_exporter": "python",
   "pygments_lexer": "ipython3",
   "version": "3.9.19"
  }
 },
 "nbformat": 4,
 "nbformat_minor": 2
}
