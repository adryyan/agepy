{
 "cells": [
  {
   "cell_type": "markdown",
   "metadata": {},
   "source": [
    "# Loading and plotting a photon spectrum"
   ]
  },
  {
   "cell_type": "code",
   "execution_count": null,
   "metadata": {},
   "outputs": [],
   "source": [
    "import numpy as np\n",
    "import matplotlib.pyplot as plt\n",
    "from agepy.spec.photons import Spectrum, DldAnodeUVW"
   ]
  },
  {
   "cell_type": "code",
   "execution_count": null,
   "metadata": {},
   "outputs": [],
   "source": [
    "anode = DldAnodeUVW(-98.8)"
   ]
  },
  {
   "cell_type": "code",
   "execution_count": null,
   "metadata": {},
   "outputs": [],
   "source": [
    "spectrum = Spectrum.from_h5(\n",
    "    \"spectrum.h5\",\n",
    "    raw = \"dld_rd#raw\",\n",
    "    time = 600,\n",
    "    anode = anode,\n",
    "    target_density = \"baratron#value\",\n",
    "    intensity_upstream = \"mirror#value\",\n",
    ")"
   ]
  },
  {
   "cell_type": "code",
   "execution_count": null,
   "metadata": {},
   "outputs": [],
   "source": [
    "# Define a ROI\n",
    "roi = {\n",
    "    \"x\": {\"min\": 0.16, \"max\": 0.80},\n",
    "    \"y\": {\"min\": 0.42, \"max\": 0.52},\n",
    "}"
   ]
  },
  {
   "cell_type": "code",
   "execution_count": null,
   "metadata": {},
   "outputs": [],
   "source": [
    "# Simulate detector efficiencies\n",
    "qeff_xe = np.histogram([], bins=512, range=(0, 1))[1]\n",
    "qeff_val = np.random.normal(0.9, 0.1, 512)\n",
    "qeff_err = np.ones(512) * 0.1"
   ]
  },
  {
   "cell_type": "code",
   "execution_count": null,
   "metadata": {},
   "outputs": [],
   "source": [
    "# Define wavelength calibration\n",
    "a0 = (128.67, 0.07)\n",
    "a1 = (38.94, 0.01)\n",
    "calib = (a0, a1)"
   ]
  },
  {
   "cell_type": "code",
   "execution_count": null,
   "metadata": {},
   "outputs": [],
   "source": [
    "# Define a binning for the spectrum\n",
    "xedges = np.histogram([], bins=512, range=(a0[0], a0[0] + a1[0]))[1]\n",
    "xvalues = (xedges[:-1] + xedges[1:]) * 0.5"
   ]
  },
  {
   "cell_type": "code",
   "execution_count": null,
   "metadata": {},
   "outputs": [],
   "source": [
    "spec, errors = spectrum.spectrum(\n",
    "    xedges,\n",
    "    roi = roi,\n",
    "    qeff = (qeff_val, qeff_err, qeff_xe),\n",
    "    calib = calib,\n",
    "    uncertainties = \"jacobi\",\n",
    ")"
   ]
  },
  {
   "cell_type": "code",
   "execution_count": null,
   "metadata": {},
   "outputs": [],
   "source": [
    "fig, ax = plt.subplots()\n",
    "ax.errorbar(xvalues, spec[1], yerr=errors, fmt=\"o\")"
   ]
  }
 ],
 "metadata": {
  "kernelspec": {
   "display_name": "agepydev",
   "language": "python",
   "name": "python3"
  },
  "language_info": {
   "name": "python",
   "version": "3.9.19"
  }
 },
 "nbformat": 4,
 "nbformat_minor": 2
}
