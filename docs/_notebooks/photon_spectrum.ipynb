{
 "cells": [
  {
   "cell_type": "markdown",
   "metadata": {},
   "source": [
    "# Loading and plotting a fluorescence spectrum"
   ]
  },
  {
   "cell_type": "code",
   "execution_count": null,
   "metadata": {},
   "outputs": [],
   "source": [
    "import numpy as np\n",
    "import matplotlib.pyplot as plt\n",
    "from agepy.spec.photons import Spectrum, DldAnodeUVW\n",
    "from agepy import ageplot\n",
    "ageplot.use(\"age\")"
   ]
  },
  {
   "cell_type": "markdown",
   "metadata": {},
   "source": [
    "Create an anode instance corresponding to the detector type and pass the rotation."
   ]
  },
  {
   "cell_type": "code",
   "execution_count": null,
   "metadata": {},
   "outputs": [],
   "source": [
    "anode = DldAnodeUVW(-98.8)"
   ]
  },
  {
   "cell_type": "markdown",
   "metadata": {},
   "source": [
    "Load the data from the h5 file. Pass the correct h5 paths to the raw\n",
    "data and if applicable the paths to recorded normalization data\n",
    "(e.g. target density or upstream intensity or ...). "
   ]
  },
  {
   "cell_type": "code",
   "execution_count": null,
   "metadata": {},
   "outputs": [],
   "source": [
    "spectrum = Spectrum.from_h5(\n",
    "    \"spectrum.h5\",  # Path to the h5 file\n",
    "    anode,  # Anode object\n",
    "    raw = \"dld_rd#raw\",  # Path to the raw data in the h5 file\n",
    "    time = 600,  # Optional, acquisition time in seconds\n",
    "    target_density = \"baratron#value\",  # Optional, path to the target density in the h5 file\n",
    "    upstream_intensity = \"mirror#value\",  # Optional, path to the upstream intensity in the h5 file\n",
    ")"
   ]
  },
  {
   "cell_type": "markdown",
   "metadata": {},
   "source": [
    "Visualize the detector image:"
   ]
  },
  {
   "cell_type": "code",
   "execution_count": null,
   "metadata": {},
   "outputs": [],
   "source": [
    "bins = np.histogram([], bins=256, range=(0, 1))[1]\n",
    "fig, ax = spectrum.det_image(bins=bins, x_lim=(0.2, 0.8), y_lim=(0.3, 0.7))\n",
    "plt.show()"
   ]
  },
  {
   "cell_type": "markdown",
   "metadata": {},
   "source": [
    "Define a region of interest on the detector surface:"
   ]
  },
  {
   "cell_type": "code",
   "execution_count": null,
   "metadata": {},
   "outputs": [],
   "source": [
    "# Define a ROI\n",
    "roi = ((0.16, 0.80), (0.42, 0.52))"
   ]
  },
  {
   "cell_type": "markdown",
   "metadata": {},
   "source": [
    "Create some dummy detector efficiencies with uncertainties that need to\n",
    "be propagated:"
   ]
  },
  {
   "cell_type": "code",
   "execution_count": null,
   "metadata": {},
   "outputs": [],
   "source": [
    "# Simulate detector efficiencies\n",
    "qeff_x = np.linspace(0.1, 0.9, 30)\n",
    "qeff_val = np.ones(30) * 0.9\n",
    "qeff_err = np.ones(30) * 0.15"
   ]
  },
  {
   "cell_type": "markdown",
   "metadata": {},
   "source": [
    "Create a dummy wavelength calibration with uncertainties that need to be\n",
    "propagated:"
   ]
  },
  {
   "cell_type": "code",
   "execution_count": null,
   "metadata": {},
   "outputs": [],
   "source": [
    "# Define wavelength calibration\n",
    "a0 = (128.67, 0.07)\n",
    "a1 = (38.94, 0.01)\n",
    "calib = (a0, a1)"
   ]
  },
  {
   "cell_type": "markdown",
   "metadata": {},
   "source": [
    "Choose a binning for the spectrum. For a calibrated spectrum the edges\n",
    "need to have the same units as the calibration."
   ]
  },
  {
   "cell_type": "code",
   "execution_count": null,
   "metadata": {},
   "outputs": [],
   "source": [
    "# Define a binning for the spectrum\n",
    "xedges = np.histogram([], bins=256, range=(a0[0], a0[0] + a1[0]))[1]"
   ]
  },
  {
   "cell_type": "markdown",
   "metadata": {},
   "source": [
    "The errors can be propagated using Monte Carlo error propagation or\n",
    "using a numerically calculated Jacobian matrix. The Jacobi method\n",
    "underestimates the uncertainties, but the Monte Carlo method may take\n",
    "a significantly longer time:"
   ]
  },
  {
   "cell_type": "code",
   "execution_count": null,
   "metadata": {},
   "outputs": [],
   "source": [
    "#%%timeit\n",
    "spec_jacobi, jacobi_errors = spectrum.spectrum(\n",
    "    xedges,\n",
    "    roi = roi,\n",
    "    qeff = (qeff_val, qeff_err, qeff_x),\n",
    "    calib = calib,\n",
    "    uncertainties = \"gauss\",\n",
    ")"
   ]
  },
  {
   "cell_type": "code",
   "execution_count": null,
   "metadata": {},
   "outputs": [],
   "source": [
    "#%%timeit\n",
    "spec_mc, mc_errors = spectrum.spectrum(\n",
    "    xedges,\n",
    "    roi = roi,\n",
    "    qeff = (qeff_val, qeff_err, qeff_x),\n",
    "    calib = calib,\n",
    "    uncertainties = \"montecarlo\",\n",
    "    mc_samples=10000\n",
    ")"
   ]
  },
  {
   "cell_type": "markdown",
   "metadata": {},
   "source": [
    "The resulting spectra are not identical, but similar enough within the\n",
    "uncertainties. If the uncertainties of the efficiencies are large, the\n",
    "Monte Carlo method will sometimes produce large outliers in the\n",
    "uncertainties."
   ]
  },
  {
   "cell_type": "code",
   "execution_count": null,
   "metadata": {},
   "outputs": [],
   "source": [
    "fig, ax = plt.subplots(2, 1, sharex=True)\n",
    "ax[0].stairs(spec_jacobi, xedges, color=ageplot.colors[0], label=\"Jacobi\")\n",
    "ax[0].stairs(spec_jacobi + jacobi_errors, xedges, baseline=spec_jacobi - jacobi_errors, color=ageplot.colors[0], fill=True, alpha=0.5)\n",
    "ax[1].stairs(spec_mc, xedges, color=ageplot.colors[1], label=\"Monte Carlo\")\n",
    "ax[1].stairs(spec_mc + mc_errors, xedges, baseline=spec_mc - mc_errors, color=ageplot.colors[1], fill=True, alpha=0.5)\n",
    "ax[1].set_xlim(135, 160)\n",
    "ax[1].set_xlabel(\"Wavelength [nm]\")\n",
    "ax[0].set_ylabel(\"Intensity [arb.u.]\")\n",
    "ax[1].set_ylabel(\"Intensity [arb.u.]\")\n",
    "ax[0].legend()\n",
    "ax[1].legend()\n",
    "plt.show()"
   ]
  },
  {
   "cell_type": "code",
   "execution_count": null,
   "metadata": {},
   "outputs": [],
   "source": [
    "fig, ax = plt.subplots()\n",
    "ax.stairs(jacobi_errors, xedges, color=ageplot.colors[0], label=\"Jacobi\")\n",
    "ax.stairs(mc_errors, xedges, color=ageplot.colors[1], label=\"Monte Carlo\")\n",
    "ax.set_xlim(135, 160)\n",
    "ax.set_xlabel(\"Wavelength [nm]\")\n",
    "ax.set_ylabel(\"Uncertainty [arb.u.]\")\n",
    "ax.legend()\n",
    "plt.show()"
   ]
  }
 ],
 "metadata": {
  "kernelspec": {
   "display_name": "Python 3 (ipykernel)",
   "language": "python",
   "name": "python3"
  },
  "language_info": {
   "codemirror_mode": {
    "name": "ipython",
    "version": 3
   },
   "file_extension": ".py",
   "mimetype": "text/x-python",
   "name": "python",
   "nbconvert_exporter": "python",
   "pygments_lexer": "ipython3",
   "version": "3.13.3"
  }
 },
 "nbformat": 4,
 "nbformat_minor": 4
}
